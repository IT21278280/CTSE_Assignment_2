{
 "cells": [
  {
   "cell_type": "markdown",
   "id": "e8167d73",
   "metadata": {},
   "source": [
    "# CTSE Lecture Notes Chatbot\n",
    "## 1. Import Libraries"
   ]
  },
  {
   "cell_type": "code",
   "execution_count": 4,
   "id": "16bd5ec2",
   "metadata": {},
   "outputs": [],
   "source": [
    "from langchain.document_loaders import PyPDFDirectoryLoader\n",
    "from langchain.text_splitter import RecursiveCharacterTextSplitter\n",
    "from langchain.embeddings import HuggingFaceEmbeddings\n",
    "from langchain.vectorstores import FAISS\n",
    "from langchain_ollama import OllamaLLM\n",
    "from langchain.chains import RetrievalQA"
   ]
  },
  {
   "cell_type": "markdown",
   "id": "d1ecda37",
   "metadata": {},
   "source": [
    "## 2. Load Lecture Notes"
   ]
  },
  {
   "cell_type": "code",
   "execution_count": 5,
   "id": "c01d8121",
   "metadata": {},
   "outputs": [
    {
     "name": "stderr",
     "output_type": "stream",
     "text": [
      "Ignoring wrong pointing object 14 0 (offset 0)\n",
      "Ignoring wrong pointing object 20 0 (offset 0)\n",
      "Ignoring wrong pointing object 24 0 (offset 0)\n",
      "Ignoring wrong pointing object 26 0 (offset 0)\n",
      "Ignoring wrong pointing object 58 0 (offset 0)\n",
      "Ignoring wrong pointing object 60 0 (offset 0)\n",
      "Ignoring wrong pointing object 62 0 (offset 0)\n",
      "Ignoring wrong pointing object 64 0 (offset 0)\n",
      "Ignoring wrong pointing object 89 0 (offset 0)\n",
      "Ignoring wrong pointing object 121 0 (offset 0)\n",
      "Ignoring wrong pointing object 157 0 (offset 0)\n",
      "Ignoring wrong pointing object 159 0 (offset 0)\n",
      "Ignoring wrong pointing object 182 0 (offset 0)\n",
      "Ignoring wrong pointing object 300 0 (offset 0)\n",
      "Ignoring wrong pointing object 302 0 (offset 0)\n",
      "Ignoring wrong pointing object 351 0 (offset 0)\n",
      "Ignoring wrong pointing object 427 0 (offset 0)\n",
      "Ignoring wrong pointing object 14 0 (offset 0)\n",
      "Ignoring wrong pointing object 20 0 (offset 0)\n",
      "Ignoring wrong pointing object 22 0 (offset 0)\n",
      "Ignoring wrong pointing object 24 0 (offset 0)\n",
      "Ignoring wrong pointing object 54 0 (offset 0)\n",
      "Ignoring wrong pointing object 56 0 (offset 0)\n",
      "Ignoring wrong pointing object 58 0 (offset 0)\n",
      "Ignoring wrong pointing object 60 0 (offset 0)\n",
      "Ignoring wrong pointing object 84 0 (offset 0)\n",
      "Ignoring wrong pointing object 160 0 (offset 0)\n",
      "Ignoring wrong pointing object 162 0 (offset 0)\n",
      "Ignoring wrong pointing object 197 0 (offset 0)\n",
      "Ignoring wrong pointing object 199 0 (offset 0)\n",
      "Ignoring wrong pointing object 201 0 (offset 0)\n",
      "Ignoring wrong pointing object 261 0 (offset 0)\n",
      "Ignoring wrong pointing object 295 0 (offset 0)\n",
      "Ignoring wrong pointing object 394 0 (offset 0)\n"
     ]
    }
   ],
   "source": [
    "loader = PyPDFDirectoryLoader(\"./lecture_notes/\")\n",
    "documents = loader.load()\n",
    "text_splitter = RecursiveCharacterTextSplitter(chunk_size=1000, chunk_overlap=200)\n",
    "chunks = text_splitter.split_documents(documents)"
   ]
  },
  {
   "cell_type": "markdown",
   "id": "31e8c2c1",
   "metadata": {},
   "source": [
    "## 3. Set Up Embeddings and LLM"
   ]
  },
  {
   "cell_type": "code",
   "execution_count": 6,
   "id": "39777ea0",
   "metadata": {},
   "outputs": [
    {
     "name": "stderr",
     "output_type": "stream",
     "text": [
      "C:\\Users\\USER\\AppData\\Local\\Temp\\ipykernel_4896\\1947172679.py:1: LangChainDeprecationWarning: The class `HuggingFaceEmbeddings` was deprecated in LangChain 0.2.2 and will be removed in 1.0. An updated version of the class exists in the :class:`~langchain-huggingface package and should be used instead. To use it run `pip install -U :class:`~langchain-huggingface` and import as `from :class:`~langchain_huggingface import HuggingFaceEmbeddings``.\n",
      "  embeddings = HuggingFaceEmbeddings(model_name=\"sentence-transformers/all-MiniLM-L6-v2\")\n"
     ]
    }
   ],
   "source": [
    "embeddings = HuggingFaceEmbeddings(model_name=\"sentence-transformers/all-MiniLM-L6-v2\")\n",
    "vector_store = FAISS.from_documents(chunks, embeddings)\n",
    "llm = OllamaLLM(model=\"mistral\")"
   ]
  },
  {
   "cell_type": "markdown",
   "id": "f5458a8a",
   "metadata": {},
   "source": [
    "## 4. Build RAG Pipeline"
   ]
  },
  {
   "cell_type": "code",
   "execution_count": 7,
   "id": "ad0049e6",
   "metadata": {},
   "outputs": [],
   "source": [
    "qa_chain = RetrievalQA.from_chain_type(\n",
    "    llm=llm,\n",
    "    chain_type=\"stuff\",\n",
    "    retriever=vector_store.as_retriever(),\n",
    "    return_source_documents=True\n",
    ")"
   ]
  },
  {
   "cell_type": "markdown",
   "id": "e9fb0454",
   "metadata": {},
   "source": [
    "## 5. Test Chatbot"
   ]
  },
  {
   "cell_type": "code",
   "execution_count": 8,
   "id": "32f5d6fb",
   "metadata": {},
   "outputs": [
    {
     "name": "stderr",
     "output_type": "stream",
     "text": [
      "C:\\Users\\USER\\AppData\\Local\\Temp\\ipykernel_4896\\2455337758.py:2: LangChainDeprecationWarning: The method `Chain.__call__` was deprecated in langchain 0.1.0 and will be removed in 1.0. Use :meth:`~invoke` instead.\n",
      "  result = qa_chain({\"query\": question})\n"
     ]
    },
    {
     "name": "stdout",
     "output_type": "stream",
     "text": [
      "Answer:  The main topic of Lecture 1 appears to be \"MapReduce\", as indicated by the repeated mention of the subject name containing \"MapReduce\" in each of the provided context snippets.\n",
      "Source: SLIIT  -Faculty of Computing\n",
      "Subject Name\n",
      "4 V’s\n",
      "11 ...\n",
      "Answer:  The provided context does not contain information about the concept of Microservices. However, I can provide a general explanation of Microservices as it is related to distributed systems and software architecture.\n",
      "\n",
      "Microservices (or Microservice Architecture) is an approach for developing a single application as a collection of small services, each running in its own process and communicating with lightweight mechanisms, often an HTTP resource API. These services are independent and can be developed, deployed, and scaled independently, which makes them more maintainable, testable, and deployable than traditional monolithic applications.\n",
      "\n",
      "This approach allows for decoupling the various components of a larger system, enabling teams to work on different services without affecting others. It also provides better fault tolerance and scalability as each service can be designed to handle specific tasks and can scale independently based on demand.\n",
      "\n",
      "In essence, Microservices aim to improve the flexibility, reliability, and extensibility of software systems by breaking them into small, loosely coupled components that can be developed, deployed, and managed more easily than a monolithic application.\n",
      "Source: SLIIT  -Faculty of Computing\n",
      "Subject Name\n",
      "2\n",
      "Contents•What is MapReduce ?•MapReduce Benefits •MapReduce Phases•MapReduce Input/Output Format•How MapReduce Organizes work ?•Wordcount Example•MapReduce F ...\n"
     ]
    }
   ],
   "source": [
    "def ask_question(question):\n",
    "    result = qa_chain({\"query\": question})\n",
    "    print(\"Answer:\", result[\"result\"])\n",
    "    print(\"Source:\", result[\"source_documents\"][0].page_content[:200], \"...\")\n",
    "\n",
    "ask_question(\"What is the main topic of Lecture 1?\")\n",
    "ask_question(\"Explain the concept of microservices from the lecture notes.\")"
   ]
  },
  {
   "cell_type": "code",
   "execution_count": 9,
   "id": "bb5a4e85",
   "metadata": {},
   "outputs": [
    {
     "name": "stdout",
     "output_type": "stream",
     "text": [
      "Answer:  The main topic of Lecture 2 appears to be \"MapReduce\" based on the given context.\n",
      "Source: SLIIT  -Faculty of Computing\n",
      "Subject Name\n",
      "4 V’s\n",
      "11 ...\n"
     ]
    }
   ],
   "source": [
    "ask_question(\"What is the main topic of Lecture 2?\")"
   ]
  },
  {
   "cell_type": "code",
   "execution_count": 10,
   "id": "411b5870",
   "metadata": {},
   "outputs": [
    {
     "name": "stdout",
     "output_type": "stream",
     "text": [
      "Answer:  The main topic of Lecture 3 appears to be \"MapReduce\" as indicated in both lecture slides.\n",
      "Source: SLIIT  -Faculty of Computing\n",
      "Subject Name\n",
      "4 V’s\n",
      "11 ...\n"
     ]
    }
   ],
   "source": [
    "ask_question(\"What is the main topic of Lecture 3?\")"
   ]
  }
 ],
 "metadata": {
  "kernelspec": {
   "display_name": "Python 3",
   "language": "python",
   "name": "python3"
  },
  "language_info": {
   "codemirror_mode": {
    "name": "ipython",
    "version": 3
   },
   "file_extension": ".py",
   "mimetype": "text/x-python",
   "name": "python",
   "nbconvert_exporter": "python",
   "pygments_lexer": "ipython3",
   "version": "3.13.2"
  }
 },
 "nbformat": 4,
 "nbformat_minor": 5
}
